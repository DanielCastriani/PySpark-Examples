{
 "cells": [
  {
   "cell_type": "code",
   "execution_count": 1,
   "metadata": {},
   "outputs": [],
   "source": [
    "import pyspark.sql.functions as F\n",
    "from pyspark.sql import SparkSession\n",
    "from pyspark.sql.types import StructType, StructField\n",
    "from pyspark.sql.types import IntegerType, FloatType, DateType, StringType\n"
   ]
  },
  {
   "cell_type": "code",
   "execution_count": 2,
   "metadata": {},
   "outputs": [
    {
     "name": "stderr",
     "output_type": "stream",
     "text": [
      "21/12/22 17:08:21 WARN NativeCodeLoader: Unable to load native-hadoop library for your platform... using builtin-java classes where applicable\n",
      "Using Spark's default log4j profile: org/apache/spark/log4j-defaults.properties\n",
      "Setting default log level to \"WARN\".\n",
      "To adjust logging level use sc.setLogLevel(newLevel). For SparkR, use setLogLevel(newLevel).\n",
      "21/12/22 17:08:45 WARN Utils: Service 'SparkUI' could not bind on port 4040. Attempting port 4041.\n",
      "21/12/22 17:08:45 WARN Utils: Service 'SparkUI' could not bind on port 4041. Attempting port 4042.\n"
     ]
    }
   ],
   "source": [
    "\n",
    "spark = SparkSession.builder\\\n",
    "    .master('spark://192.168.2.102:7077')\\\n",
    "    .appName('SQL Examples')\\\n",
    "    .config(\"spark.cores.max\", \"4\")\\\n",
    "    .config(\"spark.executor.memory\", \"4g\")\\\n",
    "    .getOrCreate()\n"
   ]
  },
  {
   "cell_type": "markdown",
   "metadata": {},
   "source": [
    "# SQL\n",
    "To use sql, you will need to create or replace a temporary view"
   ]
  },
  {
   "cell_type": "code",
   "execution_count": 3,
   "metadata": {},
   "outputs": [
    {
     "name": "stderr",
     "output_type": "stream",
     "text": [
      "                                                                                \r"
     ]
    },
    {
     "name": "stdout",
     "output_type": "stream",
     "text": [
      "+---+-----------+--------+\n",
      "| Id|InitialDate|    Type|\n",
      "+---+-----------+--------+\n",
      "|  1| 2021-12-01|   Laget|\n",
      "|  2| 2021-12-01|Pale Ale|\n",
      "|  3| 2021-12-01|    null|\n",
      "|  4| 2021-12-01|     Ipa|\n",
      "+---+-----------+--------+\n",
      "\n",
      "+----------+---+----+\n",
      "|      Date| Id|Temp|\n",
      "+----------+---+----+\n",
      "|2021-12-01|  1|20.0|\n",
      "|2021-12-02|  1|20.2|\n",
      "|2021-12-03|  1|null|\n",
      "|2021-12-04|  1|20.3|\n",
      "|2021-12-05|  1|20.5|\n",
      "+----------+---+----+\n",
      "only showing top 5 rows\n",
      "\n"
     ]
    }
   ],
   "source": [
    "beer_schema = StructType([\n",
    "    StructField('Id', IntegerType()),\n",
    "    StructField('InitialDate', DateType()),\n",
    "    StructField('Type', StringType()),\n",
    "])\n",
    "\n",
    "temp_hist_schema = StructType([\n",
    "    StructField('Date', DateType()),\n",
    "    StructField('Id', IntegerType()),\n",
    "    StructField('Temp', FloatType()),\n",
    "])\n",
    "\n",
    "beer_df = spark.read.csv('data/beer.csv', schema=beer_schema, header=True)\n",
    "beer_df.createOrReplaceTempView('Beer')\n",
    "beer_df.show(5)\n",
    "\n",
    "temp_hist_df = spark.read.csv('data/beer_temp_hist.txt', sep=';', schema=temp_hist_schema)\n",
    "temp_hist_df.createOrReplaceTempView('TempHist')\n",
    "temp_hist_df.show(5)"
   ]
  },
  {
   "cell_type": "markdown",
   "metadata": {},
   "source": [
    "## Join tables"
   ]
  },
  {
   "cell_type": "code",
   "execution_count": 4,
   "metadata": {},
   "outputs": [
    {
     "name": "stderr",
     "output_type": "stream",
     "text": [
      "                                                                                \r"
     ]
    },
    {
     "name": "stdout",
     "output_type": "stream",
     "text": [
      "+---+----------+----+-----------+-----+\n",
      "| Id|      Date|Temp|InitialDate| Type|\n",
      "+---+----------+----+-----------+-----+\n",
      "|  1|2021-12-01|20.0| 2021-12-01|Laget|\n",
      "|  1|2021-12-02|20.2| 2021-12-01|Laget|\n",
      "|  1|2021-12-03|null| 2021-12-01|Laget|\n",
      "|  1|2021-12-04|20.3| 2021-12-01|Laget|\n",
      "|  1|2021-12-05|20.5| 2021-12-01|Laget|\n",
      "+---+----------+----+-----------+-----+\n",
      "only showing top 5 rows\n",
      "\n",
      "None\n",
      "+---+----------+----+-----------+-----+\n",
      "| Id|      Date|Temp|InitialDate| Type|\n",
      "+---+----------+----+-----------+-----+\n",
      "|  1|2021-12-01|20.0| 2021-12-01|Laget|\n",
      "|  1|2021-12-02|20.2| 2021-12-01|Laget|\n",
      "|  1|2021-12-03|null| 2021-12-01|Laget|\n",
      "|  1|2021-12-04|20.3| 2021-12-01|Laget|\n",
      "|  1|2021-12-05|20.5| 2021-12-01|Laget|\n",
      "+---+----------+----+-----------+-----+\n",
      "only showing top 5 rows\n",
      "\n"
     ]
    }
   ],
   "source": [
    "beer_hist_df = temp_hist_df.join(beer_df, on='Id')\n",
    "print(beer_hist_df.show(5))\n",
    "\n",
    "beer_hist_df = spark.sql(\"\"\"\n",
    "SELECT \n",
    "    TempHist.Id,\n",
    "    TempHist.Date,\n",
    "    TempHist.Temp,\n",
    "    Beer.InitialDate,\n",
    "    Beer.Type\n",
    "FROM TempHist\n",
    "INNER JOIN Beer ON \n",
    "    Beer.Id = TempHist.Id\n",
    "\"\"\")\n",
    "\n",
    "beer_hist_df.show(5)\n",
    "\n",
    "beer_hist_df.createOrReplaceTempView('BeerHist')\n"
   ]
  },
  {
   "cell_type": "code",
   "execution_count": 5,
   "metadata": {},
   "outputs": [
    {
     "name": "stdout",
     "output_type": "stream",
     "text": [
      "+---+----------+----+-----------+--------+\n",
      "| Id|      Date|Temp|InitialDate|    Type|\n",
      "+---+----------+----+-----------+--------+\n",
      "|  1|2021-12-01|20.0| 2021-12-01|   Laget|\n",
      "|  1|2021-12-02|20.2| 2021-12-01|   Laget|\n",
      "|  1|2021-12-03|null| 2021-12-01|   Laget|\n",
      "|  1|2021-12-04|20.3| 2021-12-01|   Laget|\n",
      "|  1|2021-12-05|20.5| 2021-12-01|   Laget|\n",
      "|  2|2021-12-01|16.5| 2021-12-01|Pale Ale|\n",
      "|  2|2021-12-02|16.4| 2021-12-01|Pale Ale|\n",
      "|  2|2021-12-03|16.5| 2021-12-01|Pale Ale|\n",
      "|  2|2021-12-04|null| 2021-12-01|Pale Ale|\n",
      "|  2|2021-12-05|16.8| 2021-12-01|Pale Ale|\n",
      "|  2|2021-12-05|16.7| 2021-12-01|Pale Ale|\n",
      "|  3|2021-12-01|18.3| 2021-12-01|    null|\n",
      "|  3|2021-12-02|18.4| 2021-12-01|    null|\n",
      "|  3|2021-12-03|null| 2021-12-01|    null|\n",
      "|  4|2021-12-01|18.2| 2021-12-01|     Ipa|\n",
      "+---+----------+----+-----------+--------+\n",
      "\n"
     ]
    }
   ],
   "source": [
    "beer_df = spark.sql('SELECT * FROM BeerHist')\n",
    "beer_df.show()"
   ]
  },
  {
   "cell_type": "code",
   "execution_count": 6,
   "metadata": {},
   "outputs": [
    {
     "name": "stderr",
     "output_type": "stream",
     "text": [
      "                                                                                \r"
     ]
    },
    {
     "name": "stdout",
     "output_type": "stream",
     "text": [
      "+---+\n",
      "| Id|\n",
      "+---+\n",
      "|  1|\n",
      "|  1|\n",
      "+---+\n",
      "only showing top 2 rows\n",
      "\n",
      "+---+\n",
      "| Id|\n",
      "+---+\n",
      "|  1|\n",
      "|  1|\n",
      "+---+\n",
      "only showing top 2 rows\n",
      "\n"
     ]
    }
   ],
   "source": [
    "# Equivalent\n",
    "bear_id = beer_hist_df.select('Id')\n",
    "bear_id.show(2)\n",
    "\n",
    "bear_id = spark.sql('SELECT Id FROM BeerHist')\n",
    "bear_id.show(2)"
   ]
  },
  {
   "cell_type": "code",
   "execution_count": 7,
   "metadata": {},
   "outputs": [
    {
     "name": "stderr",
     "output_type": "stream",
     "text": [
      "                                                                                \r"
     ]
    },
    {
     "name": "stdout",
     "output_type": "stream",
     "text": [
      "+---+----------+----+-----------+--------+\n",
      "| Id|      Date|Temp|InitialDate|    Type|\n",
      "+---+----------+----+-----------+--------+\n",
      "|  2|2021-12-05|16.8| 2021-12-01|Pale Ale|\n",
      "|  2|2021-12-05|16.7| 2021-12-01|Pale Ale|\n",
      "|  2|2021-12-01|16.5| 2021-12-01|Pale Ale|\n",
      "|  2|2021-12-03|16.5| 2021-12-01|Pale Ale|\n",
      "|  2|2021-12-02|16.4| 2021-12-01|Pale Ale|\n",
      "|  2|2021-12-04|null| 2021-12-01|Pale Ale|\n",
      "+---+----------+----+-----------+--------+\n",
      "\n",
      "+---+----------+----+-----------+--------+\n",
      "| Id|      Date|Temp|InitialDate|    Type|\n",
      "+---+----------+----+-----------+--------+\n",
      "|  2|2021-12-05|16.8| 2021-12-01|Pale Ale|\n",
      "|  2|2021-12-05|16.7| 2021-12-01|Pale Ale|\n",
      "|  2|2021-12-01|16.5| 2021-12-01|Pale Ale|\n",
      "|  2|2021-12-03|16.5| 2021-12-01|Pale Ale|\n",
      "|  2|2021-12-02|16.4| 2021-12-01|Pale Ale|\n",
      "|  2|2021-12-04|null| 2021-12-01|Pale Ale|\n",
      "+---+----------+----+-----------+--------+\n",
      "\n"
     ]
    }
   ],
   "source": [
    "# Equivalent\n",
    "beer_2 = beer_hist_df.filter(beer_hist_df.Id == 2).orderBy('Temp', ascending=False)\n",
    "beer_2.show()\n",
    "\n",
    "beer_2 = spark.sql('SELECT * FROM BeerHist WHERE Id = 2 order by Temp desc')\n",
    "beer_2.show()"
   ]
  },
  {
   "cell_type": "code",
   "execution_count": 8,
   "metadata": {},
   "outputs": [
    {
     "name": "stderr",
     "output_type": "stream",
     "text": [
      "                                                                                \r"
     ]
    },
    {
     "name": "stdout",
     "output_type": "stream",
     "text": [
      "+---+---------+---------+\n",
      "| Id|min(Temp)|max(Temp)|\n",
      "+---+---------+---------+\n",
      "|  1|     20.0|     20.5|\n",
      "|  3|     18.3|     18.4|\n",
      "|  4|     18.2|     18.2|\n",
      "|  2|     16.4|     16.8|\n",
      "+---+---------+---------+\n",
      "\n",
      "+---+---------+---------+\n",
      "| Id|min(Temp)|max(Temp)|\n",
      "+---+---------+---------+\n",
      "|  1|     20.0|     20.5|\n",
      "|  3|     18.3|     18.4|\n",
      "|  4|     18.2|     18.2|\n",
      "|  2|     16.4|     16.8|\n",
      "+---+---------+---------+\n",
      "\n"
     ]
    }
   ],
   "source": [
    "# Equivalent\n",
    "beer_hist_df.groupBy('Id').agg(\n",
    "    F.min('Temp'), F.max('Temp')\n",
    ").show()\n",
    "\n",
    "spark.sql('SELECT Id, MIN(Temp), max(Temp) FROM BeerHist GROUP BY id').show()\n"
   ]
  }
 ],
 "metadata": {
  "interpreter": {
   "hash": "42197daa2389db0e10ddee9d5ff70ea816516a63390dbff66f18d3f0c6dfb379"
  },
  "kernelspec": {
   "display_name": "Python 3.8.10 64-bit ('.venv': venv)",
   "language": "python",
   "name": "python3"
  },
  "language_info": {
   "codemirror_mode": {
    "name": "ipython",
    "version": 3
   },
   "file_extension": ".py",
   "mimetype": "text/x-python",
   "name": "python",
   "nbconvert_exporter": "python",
   "pygments_lexer": "ipython3",
   "version": "3.8.10"
  },
  "orig_nbformat": 4
 },
 "nbformat": 4,
 "nbformat_minor": 2
}
