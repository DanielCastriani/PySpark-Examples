{
 "cells": [
  {
   "cell_type": "code",
   "execution_count": 1,
   "metadata": {},
   "outputs": [],
   "source": [
    "from pyspark import SparkContext "
   ]
  },
  {
   "cell_type": "markdown",
   "metadata": {},
   "source": [
    "# RDD - Resilient Distributed Datasets\n",
    "Resiliente: Capacidade de resistir a falhas\n",
    "Distributed: Distribuido em várias máquinas\n",
    "Datasets: Coleção de dados (Arrays, tabelas, tuplas, ...)"
   ]
  },
  {
   "cell_type": "code",
   "execution_count": 2,
   "metadata": {},
   "outputs": [
    {
     "name": "stderr",
     "output_type": "stream",
     "text": [
      "21/12/17 12:34:55 WARN NativeCodeLoader: Unable to load native-hadoop library for your platform... using builtin-java classes where applicable\n",
      "Using Spark's default log4j profile: org/apache/spark/log4j-defaults.properties\n",
      "Setting default log level to \"WARN\".\n",
      "To adjust logging level use sc.setLogLevel(newLevel). For SparkR, use setLogLevel(newLevel).\n"
     ]
    }
   ],
   "source": [
    "# master = 'local[1]'\n",
    "master = 'spark://192.168.2.102:7077' # Connect to remote server\n",
    "appName = 'Spark Example'\n",
    "\n",
    "sc = SparkContext(master=master, appName=appName)"
   ]
  },
  {
   "cell_type": "code",
   "execution_count": 3,
   "metadata": {},
   "outputs": [
    {
     "data": {
      "text/html": [
       "\n",
       "        <div>\n",
       "            <p><b>SparkContext</b></p>\n",
       "\n",
       "            <p><a href=\"http://hadoop:4040\">Spark UI</a></p>\n",
       "\n",
       "            <dl>\n",
       "              <dt>Version</dt>\n",
       "                <dd><code>v3.1.2</code></dd>\n",
       "              <dt>Master</dt>\n",
       "                <dd><code>spark://192.168.2.102:7077</code></dd>\n",
       "              <dt>AppName</dt>\n",
       "                <dd><code>Spark Example</code></dd>\n",
       "            </dl>\n",
       "        </div>\n",
       "        "
      ],
      "text/plain": [
       "<SparkContext master=spark://192.168.2.102:7077 appName=Spark Example>"
      ]
     },
     "execution_count": 3,
     "metadata": {},
     "output_type": "execute_result"
    }
   ],
   "source": [
    "sc"
   ]
  },
  {
   "cell_type": "code",
   "execution_count": 4,
   "metadata": {},
   "outputs": [
    {
     "name": "stderr",
     "output_type": "stream",
     "text": [
      "                                                                                \r"
     ]
    },
    {
     "data": {
      "text/plain": [
       "[1, 2, 3, 4]"
      ]
     },
     "execution_count": 4,
     "metadata": {},
     "output_type": "execute_result"
    }
   ],
   "source": [
    "rdd = sc.parallelize([1,2,3,4])\n",
    "rdd.take(5)"
   ]
  },
  {
   "cell_type": "markdown",
   "metadata": {},
   "source": [
    "## Partição\n",
    "É uma divisão criada logicamente para dividir um dataset de forma distribuida"
   ]
  },
  {
   "cell_type": "code",
   "execution_count": 5,
   "metadata": {},
   "outputs": [
    {
     "data": {
      "text/plain": [
       "[0, 1, 2, 3, 4, 5, 6, 7, 8, 9]"
      ]
     },
     "execution_count": 5,
     "metadata": {},
     "output_type": "execute_result"
    }
   ],
   "source": [
    "rdd = sc.parallelize(range(100), numSlices=10)\n",
    "rdd.take(10)"
   ]
  },
  {
   "cell_type": "markdown",
   "metadata": {},
   "source": [
    "## Transformações\n",
    "\n",
    "### Map, flat map, filter, reduce\n",
    "transforma os dados aplicando uma função\n",
    "\n",
    "não aplica a transformação até realizar uma ação, ex rdd.take(5)"
   ]
  },
  {
   "cell_type": "code",
   "execution_count": 6,
   "metadata": {},
   "outputs": [
    {
     "data": {
      "text/plain": [
       "[0, 1, 2, 3, 4, 5, 6, 7, 8, 9]"
      ]
     },
     "execution_count": 6,
     "metadata": {},
     "output_type": "execute_result"
    }
   ],
   "source": [
    "rdd = sc.parallelize(range(10))\n",
    "\n",
    "rdd.take(10)"
   ]
  },
  {
   "cell_type": "code",
   "execution_count": 7,
   "metadata": {},
   "outputs": [
    {
     "data": {
      "text/plain": [
       "[0, 1, 4, 9, 16, 25, 36, 49, 64, 81]"
      ]
     },
     "execution_count": 7,
     "metadata": {},
     "output_type": "execute_result"
    }
   ],
   "source": [
    "rdd_map = rdd.map(lambda x: x**2)\n",
    "\n",
    "rdd_map.take(10)"
   ]
  },
  {
   "cell_type": "code",
   "execution_count": 8,
   "metadata": {},
   "outputs": [
    {
     "data": {
      "text/plain": [
       "['hello', 'world', 'how', 'are', 'you']"
      ]
     },
     "execution_count": 8,
     "metadata": {},
     "output_type": "execute_result"
    }
   ],
   "source": [
    "rdd = sc.parallelize([\"hello world\", \"how are you\"])\n",
    "flatmap = rdd.flatMap(lambda x: x.split(\" \"))\n",
    "\n",
    "flatmap.take(10)"
   ]
  },
  {
   "cell_type": "code",
   "execution_count": 9,
   "metadata": {},
   "outputs": [
    {
     "data": {
      "text/plain": [
       "['[ERROR] Failed to create dataframe',\n",
       " '[ERROR] Failed to train',\n",
       " '[SUCCESS] Train successfully completed']"
      ]
     },
     "execution_count": 9,
     "metadata": {},
     "output_type": "execute_result"
    }
   ],
   "source": [
    "error_log = sc.parallelize([\"[ERROR] Failed to create dataframe\", \"[ERROR] Failed to train\"])\n",
    "success_log = sc.parallelize([\"[SUCCESS] Train successfully completed\"])\n",
    "\n",
    "log = error_log.union(success_log)\n",
    "\n",
    "log.take(5)"
   ]
  },
  {
   "cell_type": "markdown",
   "metadata": {},
   "source": [
    "# Actions\n",
    "\n",
    "- take\n",
    "- collect: Retorna todos os elementos em uma list\n",
    "- first\n",
    "- count"
   ]
  },
  {
   "cell_type": "code",
   "execution_count": 10,
   "metadata": {},
   "outputs": [
    {
     "data": {
      "text/plain": [
       "['[ERROR] Failed to create dataframe',\n",
       " '[ERROR] Failed to train',\n",
       " '[SUCCESS] Train successfully completed']"
      ]
     },
     "execution_count": 10,
     "metadata": {},
     "output_type": "execute_result"
    }
   ],
   "source": [
    "log.collect()"
   ]
  },
  {
   "cell_type": "code",
   "execution_count": 11,
   "metadata": {},
   "outputs": [
    {
     "data": {
      "text/plain": [
       "['[ERROR] Failed to create dataframe', '[ERROR] Failed to train']"
      ]
     },
     "execution_count": 11,
     "metadata": {},
     "output_type": "execute_result"
    }
   ],
   "source": [
    "log.take(2)"
   ]
  },
  {
   "cell_type": "code",
   "execution_count": 12,
   "metadata": {},
   "outputs": [
    {
     "data": {
      "text/plain": [
       "'[ERROR] Failed to create dataframe'"
      ]
     },
     "execution_count": 12,
     "metadata": {},
     "output_type": "execute_result"
    }
   ],
   "source": [
    "log.first()"
   ]
  },
  {
   "cell_type": "code",
   "execution_count": 13,
   "metadata": {},
   "outputs": [
    {
     "data": {
      "text/plain": [
       "3"
      ]
     },
     "execution_count": 13,
     "metadata": {},
     "output_type": "execute_result"
    }
   ],
   "source": [
    "log.count()"
   ]
  },
  {
   "cell_type": "markdown",
   "metadata": {},
   "source": [
    "## Tupla"
   ]
  },
  {
   "cell_type": "code",
   "execution_count": 14,
   "metadata": {},
   "outputs": [
    {
     "data": {
      "text/plain": [
       "[('CargoA', 2500.0),\n",
       " ('CargoB', 1800.0),\n",
       " ('CargoA', 2480.0),\n",
       " ('CargoA', 3500.0),\n",
       " ('CargoC', 1500.0)]"
      ]
     },
     "execution_count": 14,
     "metadata": {},
     "output_type": "execute_result"
    }
   ],
   "source": [
    "salary = [\n",
    "    'CargoA,2500',\n",
    "    'CargoB,1800',\n",
    "    'CargoA,2480',\n",
    "    'CargoA,3500',\n",
    "    'CargoC,1500',\n",
    "    'CargoB,1500',\n",
    "]\n",
    "\n",
    "\n",
    "def split_columns(x: str):\n",
    "    parts = x.split(',')\n",
    "\n",
    "    return parts[0], float(parts[1])\n",
    "\n",
    "\n",
    "rdd = sc.parallelize(salary)\n",
    "\n",
    "pair_rdd = rdd.map(split_columns)\n",
    "\n",
    "pair_rdd.take(5)\n"
   ]
  },
  {
   "cell_type": "code",
   "execution_count": 15,
   "metadata": {},
   "outputs": [
    {
     "name": "stderr",
     "output_type": "stream",
     "text": [
      "                                                                                \r"
     ]
    },
    {
     "data": {
      "text/plain": [
       "[('CargoA', 8480.0), ('CargoB', 3300.0), ('CargoC', 1500.0)]"
      ]
     },
     "execution_count": 15,
     "metadata": {},
     "output_type": "execute_result"
    }
   ],
   "source": [
    "total_by_role = pair_rdd.reduceByKey(lambda x, y: x + y)\n",
    "total_by_role.collect()"
   ]
  },
  {
   "cell_type": "code",
   "execution_count": 16,
   "metadata": {},
   "outputs": [
    {
     "data": {
      "text/plain": [
       "45"
      ]
     },
     "execution_count": 16,
     "metadata": {},
     "output_type": "execute_result"
    }
   ],
   "source": [
    "rdd = sc.parallelize(range(1, 10))\n",
    "\n",
    "\n",
    "rdd = sc.parallelize(range(1, 10))\n",
    "rdd.reduce(lambda x, y: x + y)\n"
   ]
  },
  {
   "cell_type": "code",
   "execution_count": 17,
   "metadata": {},
   "outputs": [
    {
     "data": {
      "text/plain": [
       "[('CargoC', 1500.0), ('CargoB', 3300.0), ('CargoA', 8480.0)]"
      ]
     },
     "execution_count": 17,
     "metadata": {},
     "output_type": "execute_result"
    }
   ],
   "source": [
    "total_by_role.sortByKey(ascending=False).take(5)"
   ]
  },
  {
   "cell_type": "code",
   "execution_count": 18,
   "metadata": {},
   "outputs": [
    {
     "data": {
      "text/plain": [
       "[('CatB', <pyspark.resultiterable.ResultIterable at 0x7f290151d9d0>),\n",
       " ('CatC', <pyspark.resultiterable.ResultIterable at 0x7f290151da60>),\n",
       " ('CatD', <pyspark.resultiterable.ResultIterable at 0x7f290151daf0>),\n",
       " ('CatA', <pyspark.resultiterable.ResultIterable at 0x7f290151db50>)]"
      ]
     },
     "execution_count": 18,
     "metadata": {},
     "output_type": "execute_result"
    }
   ],
   "source": [
    "products = [\n",
    "    ('CatA', 'Prod 1'),\n",
    "    ('CatA', 'Prod 2'),\n",
    "    ('CatC', 'Prod 4'),\n",
    "    ('CatD', 'Prod 6'),\n",
    "    ('CatB', 'Prod 3'),\n",
    "    ('CatC', 'Prod 5'),\n",
    "]\n",
    "\n",
    "\n",
    "rdd = sc.parallelize(products)\n",
    "\n",
    "grouped_rdd = rdd.groupByKey()\n",
    "grouped_rdd.collect()"
   ]
  },
  {
   "cell_type": "code",
   "execution_count": 19,
   "metadata": {},
   "outputs": [
    {
     "name": "stdout",
     "output_type": "stream",
     "text": [
      "CatB: ['Prod 3']\n",
      "CatC: ['Prod 4', 'Prod 5']\n",
      "CatD: ['Prod 6']\n",
      "CatA: ['Prod 1', 'Prod 2']\n"
     ]
    }
   ],
   "source": [
    "for cat, prod_list in grouped_rdd.collect():\n",
    "    print(f'{cat}: {list(prod_list)}')"
   ]
  },
  {
   "cell_type": "code",
   "execution_count": 20,
   "metadata": {},
   "outputs": [
    {
     "data": {
      "text/plain": [
       "[('CatB', ('Prod 2', 1.2)),\n",
       " ('CatC', ('Prod 3', 4)),\n",
       " ('CatC', ('Prod 3', 3.8)),\n",
       " ('CatA', ('Prod 1', 5.8))]"
      ]
     },
     "execution_count": 20,
     "metadata": {},
     "output_type": "execute_result"
    }
   ],
   "source": [
    "products_a = sc.parallelize([\n",
    "    ('CatA', 'Prod 1'),\n",
    "    ('CatB', 'Prod 2'),\n",
    "    ('CatC', 'Prod 3'),\n",
    "])\n",
    "\n",
    "products_b = sc.parallelize([\n",
    "    ('CatA', 5.8),\n",
    "    ('CatB', 1.2),\n",
    "    ('CatC', 4),\n",
    "    ('CatC', 3.8),\n",
    "])\n",
    "\n",
    "\n",
    "products = products_a.join(products_b)\n",
    "products.collect()"
   ]
  },
  {
   "cell_type": "code",
   "execution_count": 21,
   "metadata": {},
   "outputs": [
    {
     "data": {
      "text/plain": [
       "['CatB,Prod 2,1.2', 'CatC,Prod 3,4', 'CatC,Prod 3,3.8', 'CatA,Prod 1,5.8']"
      ]
     },
     "execution_count": 21,
     "metadata": {},
     "output_type": "execute_result"
    }
   ],
   "source": [
    "products_txt = products.map(lambda x: f'{x[0]},{x[1][0]},{x[1][1]}')\n",
    "products_txt.collect()"
   ]
  },
  {
   "cell_type": "code",
   "execution_count": 22,
   "metadata": {},
   "outputs": [],
   "source": [
    "products_txt.saveAsTextFile('products.txt')"
   ]
  },
  {
   "cell_type": "code",
   "execution_count": 23,
   "metadata": {},
   "outputs": [],
   "source": [
    "products_txt.coalesce(1).saveAsTextFile('products_2.txt')"
   ]
  },
  {
   "cell_type": "code",
   "execution_count": 24,
   "metadata": {},
   "outputs": [
    {
     "data": {
      "text/plain": [
       "defaultdict(int, {'CatB': 1, 'CatC': 2, 'CatA': 1})"
      ]
     },
     "execution_count": 24,
     "metadata": {},
     "output_type": "execute_result"
    }
   ],
   "source": [
    "products.countByKey()"
   ]
  },
  {
   "cell_type": "code",
   "execution_count": 25,
   "metadata": {},
   "outputs": [
    {
     "data": {
      "text/plain": [
       "{'CatB': ('Prod 2', 1.2), 'CatC': ('Prod 3', 3.8), 'CatA': ('Prod 1', 5.8)}"
      ]
     },
     "execution_count": 25,
     "metadata": {},
     "output_type": "execute_result"
    }
   ],
   "source": [
    "products.collectAsMap()"
   ]
  },
  {
   "cell_type": "code",
   "execution_count": 26,
   "metadata": {},
   "outputs": [],
   "source": [
    "root_path = 'hdfs://192.168.2.102:9000/dataset/{filename}' # If you want to save in hdfs\n",
    "# root_path = './{filename}'"
   ]
  },
  {
   "cell_type": "code",
   "execution_count": 27,
   "metadata": {},
   "outputs": [
    {
     "name": "stderr",
     "output_type": "stream",
     "text": [
      "                                                                                \r"
     ]
    }
   ],
   "source": [
    "products_txt.saveAsTextFile(root_path.format(filename='products.txt'))\n",
    "products_txt.coalesce(1).saveAsTextFile(root_path.format(filename='products_2.txt'))"
   ]
  }
 ],
 "metadata": {
  "interpreter": {
   "hash": "03d1b6c591e86f578e873b57167c4e5ab8b79a329fcd8c8e2c0b78551a05750d"
  },
  "kernelspec": {
   "display_name": "Python 3 (ipykernel)",
   "language": "python",
   "name": "python3"
  },
  "orig_nbformat": 4
 },
 "nbformat": 4,
 "nbformat_minor": 2
}
