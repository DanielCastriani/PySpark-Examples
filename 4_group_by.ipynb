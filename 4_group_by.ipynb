{
 "cells": [
  {
   "cell_type": "markdown",
   "metadata": {},
   "source": [
    "# Group By and Aggregations"
   ]
  },
  {
   "cell_type": "code",
   "execution_count": 1,
   "metadata": {},
   "outputs": [
    {
     "name": "stderr",
     "output_type": "stream",
     "text": [
      "21/12/22 16:54:52 WARN NativeCodeLoader: Unable to load native-hadoop library for your platform... using builtin-java classes where applicable\n",
      "Using Spark's default log4j profile: org/apache/spark/log4j-defaults.properties\n",
      "Setting default log level to \"WARN\".\n",
      "To adjust logging level use sc.setLogLevel(newLevel). For SparkR, use setLogLevel(newLevel).\n",
      "21/12/22 16:54:55 WARN Utils: Service 'SparkUI' could not bind on port 4040. Attempting port 4041.\n"
     ]
    }
   ],
   "source": [
    "from pyspark.sql import SparkSession\n",
    "from pyspark.sql.types import StructType, StructField\n",
    "from pyspark.sql.types import IntegerType, FloatType, DateType, StringType\n",
    "import pyspark.sql.functions as F\n",
    "\n",
    "spark = SparkSession.builder\\\n",
    "    .master('spark://192.168.2.102:7077')\\\n",
    "    .appName('Group By and Aggregations')\\\n",
    "    .config(\"spark.cores.max\", \"4\")\\\n",
    "    .config(\"spark.executor.memory\", \"4g\")\\\n",
    "    .getOrCreate()"
   ]
  },
  {
   "cell_type": "code",
   "execution_count": 2,
   "metadata": {},
   "outputs": [
    {
     "name": "stderr",
     "output_type": "stream",
     "text": [
      "[Stage 1:>                                                          (0 + 1) / 1]\r"
     ]
    },
    {
     "name": "stdout",
     "output_type": "stream",
     "text": [
      "+---+-----------+--------+----------+----+\n",
      "| Id|InitialDate|    Type|      Date|   C|\n",
      "+---+-----------+--------+----------+----+\n",
      "|  1| 2021-12-01|   Laget|2021-12-01|20.0|\n",
      "|  1| 2021-12-01|   Laget|2021-12-02|20.2|\n",
      "|  1| 2021-12-01|   Laget|2021-12-03|null|\n",
      "|  1| 2021-12-01|   Laget|2021-12-04|20.3|\n",
      "|  1| 2021-12-01|   Laget|2021-12-05|20.5|\n",
      "|  2| 2021-12-01|Pale Ale|2021-12-01|16.5|\n",
      "|  2| 2021-12-01|Pale Ale|2021-12-02|16.4|\n",
      "|  2| 2021-12-01|Pale Ale|2021-12-03|16.5|\n",
      "|  2| 2021-12-01|Pale Ale|2021-12-04|null|\n",
      "|  2| 2021-12-01|Pale Ale|2021-12-05|16.8|\n",
      "|  2| 2021-12-01|Pale Ale|2021-12-05|16.7|\n",
      "|  3| 2021-12-01|    null|2021-12-01|18.3|\n",
      "|  3| 2021-12-01|    null|2021-12-02|18.4|\n",
      "|  3| 2021-12-01|    null|2021-12-03|null|\n",
      "|  4| 2021-12-01|     Ipa|2021-12-01|18.2|\n",
      "+---+-----------+--------+----------+----+\n",
      "\n"
     ]
    },
    {
     "name": "stderr",
     "output_type": "stream",
     "text": [
      "                                                                                \r"
     ]
    }
   ],
   "source": [
    "temp_hist_schema = StructType([\n",
    "    StructField('Date', DateType()),\n",
    "    StructField('Id', IntegerType()),\n",
    "    StructField('C', FloatType()),\n",
    "])\n",
    "\n",
    "beer_schema = StructType([\n",
    "    StructField('Id', IntegerType()),\n",
    "    StructField('InitialDate', DateType()),\n",
    "    StructField('Type', StringType()),\n",
    "])\n",
    " \n",
    "\n",
    "temp_hist_df = spark.read.csv('data/beer_temp_hist.txt', sep=';', schema=temp_hist_schema)\n",
    "beer_description_df = spark.read.csv('data/beer.csv', schema=beer_schema, header=True)\n",
    "\n",
    "beer_df = beer_description_df.join(temp_hist_df, on='Id', how='inner')\n",
    "\n",
    "beer_df.show()"
   ]
  },
  {
   "cell_type": "code",
   "execution_count": 3,
   "metadata": {},
   "outputs": [
    {
     "name": "stderr",
     "output_type": "stream",
     "text": [
      "                                                                                \r"
     ]
    },
    {
     "name": "stdout",
     "output_type": "stream",
     "text": [
      "+---+-----+\n",
      "| Id|count|\n",
      "+---+-----+\n",
      "|  1|    5|\n",
      "|  3|    3|\n",
      "|  4|    1|\n",
      "|  2|    6|\n",
      "+---+-----+\n",
      "\n"
     ]
    },
    {
     "name": "stderr",
     "output_type": "stream",
     "text": [
      "                                                                                \r"
     ]
    },
    {
     "name": "stdout",
     "output_type": "stream",
     "text": [
      "+---+------+\n",
      "| Id|min(C)|\n",
      "+---+------+\n",
      "|  1|  20.0|\n",
      "|  3|  18.3|\n",
      "|  4|  18.2|\n",
      "|  2|  16.4|\n",
      "+---+------+\n",
      "\n"
     ]
    },
    {
     "name": "stderr",
     "output_type": "stream",
     "text": [
      "                                                                                \r"
     ]
    },
    {
     "name": "stdout",
     "output_type": "stream",
     "text": [
      "+---+------+\n",
      "| Id|max(C)|\n",
      "+---+------+\n",
      "|  1|  20.5|\n",
      "|  3|  18.4|\n",
      "|  4|  18.2|\n",
      "|  2|  16.8|\n",
      "+---+------+\n",
      "\n",
      "+---+------------------+\n",
      "| Id|            avg(C)|\n",
      "+---+------------------+\n",
      "|  1|             20.25|\n",
      "|  3| 18.34999942779541|\n",
      "|  4|18.200000762939453|\n",
      "|  2|16.579999923706055|\n",
      "+---+------------------+\n",
      "\n"
     ]
    }
   ],
   "source": [
    "beer_df_grouped = beer_df.groupBy('Id')\n",
    "\n",
    "beer_df_grouped.count().show()\n",
    "beer_df_grouped.min('C').show()\n",
    "beer_df_grouped.max('C').show()\n",
    "beer_df_grouped.mean('C').show()"
   ]
  },
  {
   "cell_type": "code",
   "execution_count": 4,
   "metadata": {},
   "outputs": [
    {
     "name": "stdout",
     "output_type": "stream",
     "text": [
      "+---+---------+------+------+\n",
      "| Id|count(Id)|min(C)|max(C)|\n",
      "+---+---------+------+------+\n",
      "|  1|        5|  20.0|  20.5|\n",
      "|  3|        3|  18.3|  18.4|\n",
      "|  4|        1|  18.2|  18.2|\n",
      "|  2|        6|  16.4|  16.8|\n",
      "+---+---------+------+------+\n",
      "\n"
     ]
    }
   ],
   "source": [
    "beer_df.groupBy('Id').agg(F.count('Id'), F.min('C'), F.max('C')).show()"
   ]
  },
  {
   "cell_type": "code",
   "execution_count": null,
   "metadata": {},
   "outputs": [],
   "source": []
  }
 ],
 "metadata": {
  "interpreter": {
   "hash": "42197daa2389db0e10ddee9d5ff70ea816516a63390dbff66f18d3f0c6dfb379"
  },
  "kernelspec": {
   "display_name": "Python 3.8.10 64-bit ('.venv': venv)",
   "language": "python",
   "name": "python3"
  },
  "language_info": {
   "codemirror_mode": {
    "name": "ipython",
    "version": 3
   },
   "file_extension": ".py",
   "mimetype": "text/x-python",
   "name": "python",
   "nbconvert_exporter": "python",
   "pygments_lexer": "ipython3",
   "version": "3.8.10"
  },
  "orig_nbformat": 4
 },
 "nbformat": 4,
 "nbformat_minor": 2
}
